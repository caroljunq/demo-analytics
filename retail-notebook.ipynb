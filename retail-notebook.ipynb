{
 "cells": [
  {
   "cell_type": "code",
   "execution_count": 34,
   "metadata": {},
   "outputs": [
    {
     "data": {
      "application/vnd.jupyter.widget-view+json": {
       "model_id": "25b6ddc8b5dd4ecc8c82f46ebcc9481b",
       "version_major": 2,
       "version_minor": 0
      },
      "text/plain": [
       "VBox()"
      ]
     },
     "metadata": {},
     "output_type": "display_data"
    },
    {
     "data": {
      "application/vnd.jupyter.widget-view+json": {
       "model_id": "",
       "version_major": 2,
       "version_minor": 0
      },
      "text/plain": [
       "FloatProgress(value=0.0, bar_style='info', description='Progress:', layout=Layout(height='25px', width='50%'),…"
      ]
     },
     "metadata": {},
     "output_type": "display_data"
    },
    {
     "name": "stdout",
     "output_type": "stream",
     "text": [
      "+-----------------+\n",
      "|     databaseName|\n",
      "+-----------------+\n",
      "|      clickstream|\n",
      "|          default|\n",
      "|       rds-retail|\n",
      "|s3-processed-data|\n",
      "|       s3-raw-dms|\n",
      "+-----------------+"
     ]
    }
   ],
   "source": [
    "spark.sql(\"show databases\").show()"
   ]
  },
  {
   "cell_type": "code",
   "execution_count": 46,
   "metadata": {},
   "outputs": [
    {
     "data": {
      "application/vnd.jupyter.widget-view+json": {
       "model_id": "5b0f357f05b64dd1a95c50058015f118",
       "version_major": 2,
       "version_minor": 0
      },
      "text/plain": [
       "VBox()"
      ]
     },
     "metadata": {},
     "output_type": "display_data"
    },
    {
     "data": {
      "application/vnd.jupyter.widget-view+json": {
       "model_id": "",
       "version_major": 2,
       "version_minor": 0
      },
      "text/plain": [
       "FloatProgress(value=0.0, bar_style='info', description='Progress:', layout=Layout(height='25px', width='50%'),…"
      ]
     },
     "metadata": {},
     "output_type": "display_data"
    },
    {
     "name": "stdout",
     "output_type": "stream",
     "text": [
      "DataFrame[]"
     ]
    }
   ],
   "source": [
    "# spark.sql(\"use [s3-processed-data]\")\n",
    "spark.sql(\"use `s3-processed-data`\")"
   ]
  },
  {
   "cell_type": "code",
   "execution_count": 40,
   "metadata": {},
   "outputs": [
    {
     "data": {
      "application/vnd.jupyter.widget-view+json": {
       "model_id": "9a0eb86e352245ad9929706d36a44c38",
       "version_major": 2,
       "version_minor": 0
      },
      "text/plain": [
       "VBox()"
      ]
     },
     "metadata": {},
     "output_type": "display_data"
    },
    {
     "data": {
      "application/vnd.jupyter.widget-view+json": {
       "model_id": "",
       "version_major": 2,
       "version_minor": 0
      },
      "text/plain": [
       "FloatProgress(value=0.0, bar_style='info', description='Progress:', layout=Layout(height='25px', width='50%'),…"
      ]
     },
     "metadata": {},
     "output_type": "display_data"
    },
    {
     "name": "stdout",
     "output_type": "stream",
     "text": [
      "+-----------------+---------------+-----------+\n",
      "|         database|      tableName|isTemporary|\n",
      "+-----------------+---------------+-----------+\n",
      "|s3-processed-data|all_clickstream|      false|\n",
      "|s3-processed-data|      campaigns|      false|\n",
      "|s3-processed-data|     categories|      false|\n",
      "|s3-processed-data|    clickstream|      false|\n",
      "|s3-processed-data|      countries|      false|\n",
      "|s3-processed-data|      customers|      false|\n",
      "|s3-processed-data|         orders|      false|\n",
      "|s3-processed-data|   orders_items|      false|\n",
      "|s3-processed-data|       payments|      false|\n",
      "|s3-processed-data|       products|      false|\n",
      "|s3-processed-data|      suppliers|      false|\n",
      "+-----------------+---------------+-----------+"
     ]
    }
   ],
   "source": [
    "spark.sql(\"show tables\").show()"
   ]
  },
  {
   "cell_type": "code",
   "execution_count": 55,
   "metadata": {},
   "outputs": [
    {
     "data": {
      "application/vnd.jupyter.widget-view+json": {
       "model_id": "80a2ca74e9cc4ed4a5b4f9dda3f5b05f",
       "version_major": 2,
       "version_minor": 0
      },
      "text/plain": [
       "VBox()"
      ]
     },
     "metadata": {},
     "output_type": "display_data"
    },
    {
     "data": {
      "application/vnd.jupyter.widget-view+json": {
       "model_id": "",
       "version_major": 2,
       "version_minor": 0
      },
      "text/plain": [
       "FloatProgress(value=0.0, bar_style='info', description='Progress:', layout=Layout(height='25px', width='50%'),…"
      ]
     },
     "metadata": {},
     "output_type": "display_data"
    },
    {
     "name": "stdout",
     "output_type": "stream",
     "text": [
      "+--------+-----------+-------------------+-------------------+-----------+------------+--------------+\n",
      "|order_id|customer_id|         order_date|      delivery_date|campaign_id|media_source|payment_method|\n",
      "+--------+-----------+-------------------+-------------------+-----------+------------+--------------+\n",
      "|  268669|       2147|2017-06-25 11:57:20|2017-06-27 11:57:20|          0|        None|             6|\n",
      "|   48361|       1667|2018-09-14 15:42:30|2018-09-15 15:42:30|          7| Website-ads|             6|\n",
      "|  172235|       1753|2018-09-24 15:39:09|2018-09-28 15:39:09|          0|        None|             8|\n",
      "|  192751|       1454|2018-11-06 18:17:04|2018-11-08 18:17:04|          1| Website-ads|             8|\n",
      "|    1189|       2023|2017-06-05 10:05:18|2017-06-09 10:05:18|          0|        None|             1|\n",
      "|  124588|       1885|2018-01-16 09:15:01|2018-01-18 09:15:01|          0|        None|             1|\n",
      "|   42187|        415|2017-07-18 23:05:59|2017-07-23 23:05:59|          0|        None|             6|\n",
      "|   73020|        499|2017-09-19 01:37:47|2017-09-23 01:37:47|          0|        None|             3|\n",
      "|  213951|       1953|2017-10-15 17:22:59|2017-10-17 17:22:59|          3|    Facebook|             3|\n",
      "|   51796|       1843|2018-10-12 08:04:59|2018-10-15 08:04:59|          0|        None|             1|\n",
      "+--------+-----------+-------------------+-------------------+-----------+------------+--------------+"
     ]
    }
   ],
   "source": [
    "spark.sql(\"select * from orders limit 10\").show()"
   ]
  },
  {
   "cell_type": "code",
   "execution_count": 56,
   "metadata": {},
   "outputs": [
    {
     "data": {
      "application/vnd.jupyter.widget-view+json": {
       "model_id": "4bd65f25b93541ed83cd6624856cedf5",
       "version_major": 2,
       "version_minor": 0
      },
      "text/plain": [
       "VBox()"
      ]
     },
     "metadata": {},
     "output_type": "display_data"
    },
    {
     "data": {
      "application/vnd.jupyter.widget-view+json": {
       "model_id": "",
       "version_major": 2,
       "version_minor": 0
      },
      "text/plain": [
       "FloatProgress(value=0.0, bar_style='info', description='Progress:', layout=Layout(height='25px', width='50%'),…"
      ]
     },
     "metadata": {},
     "output_type": "display_data"
    }
   ],
   "source": [
    "df = spark.sql(\"select * from orders limit 10\")"
   ]
  },
  {
   "cell_type": "code",
   "execution_count": 57,
   "metadata": {},
   "outputs": [
    {
     "data": {
      "application/vnd.jupyter.widget-view+json": {
       "model_id": "17675dd5736647539685c6170303d947",
       "version_major": 2,
       "version_minor": 0
      },
      "text/plain": [
       "VBox()"
      ]
     },
     "metadata": {},
     "output_type": "display_data"
    },
    {
     "data": {
      "application/vnd.jupyter.widget-view+json": {
       "model_id": "",
       "version_major": 2,
       "version_minor": 0
      },
      "text/plain": [
       "FloatProgress(value=0.0, bar_style='info', description='Progress:', layout=Layout(height='25px', width='50%'),…"
      ]
     },
     "metadata": {},
     "output_type": "display_data"
    }
   ],
   "source": [
    "df.write.csv(\"s3://raw-data-csv-retail/demo_emr\")"
   ]
  },
  {
   "cell_type": "code",
   "execution_count": null,
   "metadata": {},
   "outputs": [],
   "source": []
  }
 ],
 "metadata": {
  "kernelspec": {
   "display_name": "PySpark",
   "language": "",
   "name": "pysparkkernel"
  },
  "language_info": {
   "codemirror_mode": {
    "name": "python",
    "version": 2
   },
   "mimetype": "text/x-python",
   "name": "pyspark",
   "pygments_lexer": "python2"
  }
 },
 "nbformat": 4,
 "nbformat_minor": 4
}
